{
 "cells": [
  {
   "cell_type": "code",
   "execution_count": 1,
   "metadata": {},
   "outputs": [],
   "source": [
    "import numpy as np\n",
    "from tqdm import tqdm\n",
    "\n",
    "import torch\n",
    "import torch.nn as nn\n",
    "import torch.nn.functional as F\n",
    "import torchvision\n",
    "import torchvision.transforms as transforms\n",
    "import torch.optim as optim\n",
    "from fisher_resnet import *"
   ]
  },
  {
   "cell_type": "markdown",
   "metadata": {},
   "source": [
    "Make corresponding plots over all runs of pruning"
   ]
  },
  {
   "cell_type": "markdown",
   "metadata": {},
   "source": [
    "Specify data type for aggregating and plotting"
   ]
  },
  {
   "cell_type": "code",
   "execution_count": 2,
   "metadata": {},
   "outputs": [
    {
     "name": "stdout",
     "output_type": "stream",
     "text": [
      "cuda:0\n"
     ]
    }
   ],
   "source": [
    "data = 'cifar100'\n",
    "if data == 'cifar10':\n",
    "    n_classes = 10\n",
    "    base_path = 'resnet_cifar10/'\n",
    "else:\n",
    "    n_classes = 100\n",
    "    base_path = 'resnet_cifar100/'\n",
    "    \n",
    "device = torch.device(\"cuda:0\" if torch.cuda.is_available() else \"cpu\")\n",
    "print(device)"
   ]
  },
  {
   "cell_type": "markdown",
   "metadata": {},
   "source": [
    "Specify test transforms and test data"
   ]
  },
  {
   "cell_type": "code",
   "execution_count": 3,
   "metadata": {},
   "outputs": [
    {
     "name": "stdout",
     "output_type": "stream",
     "text": [
      "Files already downloaded and verified\n"
     ]
    }
   ],
   "source": [
    "transform_test = transforms.Compose([\n",
    "    transforms.ToTensor(),\n",
    "    transforms.Normalize((0.4914, 0.4822, 0.4465), (0.2023, 0.1994, 0.2010)),\n",
    "])\n",
    "\n",
    "if data == 'cifar10':\n",
    "    testset = torchvision.datasets.CIFAR10(root='./data', train=False,\n",
    "                                       download=True, transform=transform_test)\n",
    "else:\n",
    "    testset = torchvision.datasets.CIFAR100(root='./data', train=False,\n",
    "                                       download=True, transform=transform_test)\n",
    "    \n",
    "testloader = torch.utils.data.DataLoader(testset, batch_size=1024, shuffle=False)"
   ]
  },
  {
   "cell_type": "markdown",
   "metadata": {},
   "source": [
    "Specify number of runs and make array for accuracy"
   ]
  },
  {
   "cell_type": "code",
   "execution_count": 4,
   "metadata": {},
   "outputs": [],
   "source": [
    "n = 3\n",
    "percentiles = np.arange(0, 95, 15)[1:]\n",
    "errors = np.zeros((percentiles.shape[0] + 1, n))"
   ]
  },
  {
   "cell_type": "code",
   "execution_count": 5,
   "metadata": {},
   "outputs": [
    {
     "name": "stderr",
     "output_type": "stream",
     "text": [
      "100%|██████████| 10/10 [00:06<00:00,  1.54it/s]\n",
      "100%|██████████| 10/10 [00:06<00:00,  1.55it/s]\n",
      "100%|██████████| 10/10 [00:06<00:00,  1.55it/s]\n",
      "100%|██████████| 10/10 [00:06<00:00,  1.55it/s]\n",
      "100%|██████████| 10/10 [00:06<00:00,  1.56it/s]\n",
      "100%|██████████| 10/10 [00:06<00:00,  1.55it/s]\n",
      "100%|██████████| 10/10 [00:06<00:00,  1.56it/s]\n",
      "100%|██████████| 10/10 [00:06<00:00,  1.55it/s]\n",
      "100%|██████████| 10/10 [00:06<00:00,  1.56it/s]\n",
      "100%|██████████| 10/10 [00:06<00:00,  1.56it/s]\n",
      "100%|██████████| 10/10 [00:06<00:00,  1.55it/s]\n",
      "100%|██████████| 10/10 [00:06<00:00,  1.56it/s]\n",
      "100%|██████████| 10/10 [00:06<00:00,  1.56it/s]\n",
      "100%|██████████| 10/10 [00:06<00:00,  1.56it/s]\n",
      "100%|██████████| 10/10 [00:06<00:00,  1.56it/s]\n",
      "100%|██████████| 10/10 [00:06<00:00,  1.56it/s]\n",
      "100%|██████████| 10/10 [00:06<00:00,  1.56it/s]\n",
      "100%|██████████| 10/10 [00:06<00:00,  1.56it/s]\n",
      "100%|██████████| 10/10 [00:06<00:00,  1.56it/s]\n",
      "100%|██████████| 10/10 [00:06<00:00,  1.56it/s]\n",
      "100%|██████████| 10/10 [00:06<00:00,  1.56it/s]\n"
     ]
    }
   ],
   "source": [
    "for i in range(percentiles.shape[0] + 1):\n",
    "    for j in range(n):\n",
    "        net = resnet50(n_classes)\n",
    "        net.load_state_dict(torch.load(base_path + str(i) + '_' + str(j) + '.pth'))\n",
    "        net.to(device)\n",
    "        \n",
    "        net.eval()\n",
    "        with torch.no_grad():\n",
    "            correct = 0.\n",
    "            for input, target in tqdm(testloader):\n",
    "                input = input.to(device)\n",
    "                target = target.to(device)\n",
    "\n",
    "                output = net(input)\n",
    "                _, predicted = torch.max(output.data, 1)\n",
    "                correct += (predicted == target).sum().item()\n",
    "                \n",
    "            errors[i, j] = correct / len(testset)"
   ]
  },
  {
   "cell_type": "markdown",
   "metadata": {},
   "source": [
    "Obtained accuracy"
   ]
  },
  {
   "cell_type": "code",
   "execution_count": 6,
   "metadata": {},
   "outputs": [
    {
     "data": {
      "text/plain": [
       "array([[0.6998, 0.701 , 0.7013],\n",
       "       [0.7136, 0.7186, 0.7067],\n",
       "       [0.7071, 0.7158, 0.7103],\n",
       "       [0.7166, 0.7232, 0.7127],\n",
       "       [0.7221, 0.7201, 0.7263],\n",
       "       [0.7103, 0.7177, 0.716 ],\n",
       "       [0.6772, 0.6856, 0.6765]])"
      ]
     },
     "execution_count": 6,
     "metadata": {},
     "output_type": "execute_result"
    }
   ],
   "source": [
    "errors"
   ]
  },
  {
   "cell_type": "markdown",
   "metadata": {},
   "source": [
    "Compute means"
   ]
  },
  {
   "cell_type": "code",
   "execution_count": 7,
   "metadata": {},
   "outputs": [
    {
     "data": {
      "text/plain": [
       "array([0.7007    , 0.71296667, 0.71106667, 0.7175    , 0.72283333,\n",
       "       0.71466667, 0.67976667])"
      ]
     },
     "execution_count": 7,
     "metadata": {},
     "output_type": "execute_result"
    }
   ],
   "source": [
    "means = np.mean(errors, axis=1)\n",
    "means"
   ]
  },
  {
   "cell_type": "code",
   "execution_count": 8,
   "metadata": {},
   "outputs": [
    {
     "name": "stdout",
     "output_type": "stream",
     "text": [
      "Populating the interactive namespace from numpy and matplotlib\n"
     ]
    }
   ],
   "source": [
    "% pylab inline"
   ]
  },
  {
   "cell_type": "markdown",
   "metadata": {},
   "source": [
    "Plot"
   ]
  },
  {
   "cell_type": "code",
   "execution_count": 9,
   "metadata": {},
   "outputs": [
    {
     "data": {
      "image/png": "[encoded data removed]",
      "text/plain": [
       "<Figure size 432x288 with 1 Axes>"
      ]
     },
     "metadata": {},
     "output_type": "display_data"
    }
   ],
   "source": [
    "x_axis = [0] + list(percentiles)\n",
    "for i in range(n):\n",
    "    scatter(x_axis, errors[:, i], c='orange')\n",
    "plot(x_axis, means)\n",
    "grid()\n",
    "xlabel('sparsity, %')\n",
    "ylabel('accuracy')\n",
    "title('Resnet50 ' + data)\n",
    "savefig('resnet_' + data + '.png')"
   ]
  },
  {
   "cell_type": "markdown",
   "metadata": {},
   "source": [
    "Save"
   ]
  },
  {
   "cell_type": "code",
   "execution_count": 10,
   "metadata": {},
   "outputs": [],
   "source": [
    "np.save('resnet_' + data, errors)"
   ]
  },
  {
   "cell_type": "code",
   "execution_count": 11,
   "metadata": {},
   "outputs": [],
   "source": [
    "np.savetxt(\"resnet_\" + data + \".csv\", errors, delimiter=\",\")"
   ]
  },
  {
   "cell_type": "code",
   "execution_count": null,
   "metadata": {},
   "outputs": [],
   "source": []
  }
 ],
 "metadata": {
  "kernelspec": {
   "display_name": "Python [default]",
   "language": "python",
   "name": "python3"
  },
  "language_info": {
   "codemirror_mode": {
    "name": "ipython",
    "version": 3
   },
   "file_extension": ".py",
   "mimetype": "text/x-python",
   "name": "python",
   "nbconvert_exporter": "python",
   "pygments_lexer": "ipython3",
   "version": "3.5.5"
  }
 },
 "nbformat": 4,
 "nbformat_minor": 2
}
